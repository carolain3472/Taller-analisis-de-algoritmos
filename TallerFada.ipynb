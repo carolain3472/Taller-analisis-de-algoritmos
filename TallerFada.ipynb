{
  "nbformat": 4,
  "nbformat_minor": 0,
  "metadata": {
    "colab": {
      "provenance": []
    },
    "kernelspec": {
      "name": "python3",
      "display_name": "Python 3"
    },
    "language_info": {
      "name": "python"
    }
  },
  "cells": [
    {
      "cell_type": "markdown",
      "source": [
        "**PUNTO 1**\n",
        "En una determinada oficina se planificaron los horarios de atención con anterioridad, y debido al tema a tratar se calculó un estimado de la duración de la sesión de atención para todas las personas que solicitaron el horario. Entrarán N personas que serán atendidas en el orden que pidieron la cita, y debido al tema por el que pidieron la cita se calculó previamente un tiempo de atención tentativo por persona identificado como 𝐴𝑖, y la oficina con un tiempo máximo de atención T. Debido a que la oficina cuenta con múltiples (demasiados) puestos de atención, podrían abrirlos todos y atender a los clientes de forma simultánea, sin embargo, se quiere calcular el mínimo número de puestos de atención necesarios para atender a todos los clientes sin sobrepasar el tiempo de atención T dado. "
      ],
      "metadata": {
        "id": "7G5DgdcTm7pJ"
      }
    },
    {
      "cell_type": "code",
      "source": [
        "def puntoUno(numeroClientes,tiempoMaximo,tiempoAtencion):\n",
        "\n",
        "  if (len(tiempoAtencion)==numeroClientes):\n",
        "    oficinas = [tiempoAtencion.pop(0)]\n",
        "    for atencion in tiempoAtencion:\n",
        "      for oficina in range(0,len(oficinas)):\n",
        "        if (atencion+oficinas[oficina]<=tiempoMaximo):\n",
        "          oficinas[oficina]=atencion+oficinas[oficina]\n",
        "          break\n",
        "        else:\n",
        "          oficinas.append(atencion)\n",
        "          break\n",
        "\n",
        "    return len(oficinas)\n",
        "\n",
        "\n",
        "  else:\n",
        "    print(\"Verifica de nuevo las entradas\")\n",
        "\n",
        "#puntoUno(5,8,[4,7,8,6,4])\n"
      ],
      "metadata": {
        "id": "wrk4T0naV6G3"
      },
      "execution_count": null,
      "outputs": []
    },
    {
      "cell_type": "markdown",
      "source": [
        "Se realizó un generador para realizar entradas aleatorias, de acuerdo a la cantidad de clientes. "
      ],
      "metadata": {
        "id": "x-iJh6hymtHo"
      }
    },
    {
      "cell_type": "code",
      "source": [
        "def generarListaTiempoAtencion(clientes, tiempoMax):\n",
        "  listaClientesT= []\n",
        "  for i in range(clientes):\n",
        "    listaClientesT.append(math.ceil(random.uniform(1, tiempoMax)))                       \n",
        "  return listaClientesT\n",
        "\n",
        "\n",
        "#print(generarListaTiempoAtencion(5,8))\n",
        "\n",
        "print(puntoUno(10000,1000000000,generarListaTiempoAtencion(10000,1000000000)))"
      ],
      "metadata": {
        "colab": {
          "base_uri": "https://localhost:8080/"
        },
        "id": "BJcA7o0Ka5Hz",
        "outputId": "be1a5042-6b8f-43d1-a412-4e5fa76c8b71"
      },
      "execution_count": null,
      "outputs": [
        {
          "output_type": "stream",
          "name": "stdout",
          "text": [
            "9992\n"
          ]
        }
      ]
    },
    {
      "cell_type": "markdown",
      "source": [
        "**PUNTO 2**\n",
        "Usted tiene m (1 ≤ 𝑚 ≤ 105) apartamentos libres, con precios 𝑀𝑖 (0 ≤ 𝑖 < 𝑚) de arrendamiento cada 𝑖 uno, y tiene n (1 ≤ 𝑛 ≤ 105) personas que pidieron arrendar alguno de los m apartamentos, y cada aplicante le dio un precio aproximado 𝑁𝑗 (0 ≤ 𝑗 < 𝑛) que está dispuesto a pagar. Sin embargo, al ser aproximado, cada precio 𝑁𝑗 tiene una tolerancia k para todos lo que implica que están dispuestos a pagar desde 𝑁𝑗 – k hasta 𝑁𝑗+ k. Determine la mayor cantidad de apartamentos que puede arrendar. Asuma que m ≤ n. \n"
      ],
      "metadata": {
        "id": "aQIrlWNtpcs2"
      }
    },
    {
      "cell_type": "code",
      "source": [
        "import random\n",
        "import math\n",
        "\n",
        "#funcionAptos(numApartamentos, numAplicantes, toleranciaPrecio, precioAptos, precioAplicantes)\n",
        "#Salida, cantidad de aptos que se pueden arrendar \n",
        "\n",
        "def puntoDos(numApartamentos, numAplicantes, precioAptos, precioAplicantes, toleranciaPrecio):\n",
        "\n",
        "  if ((numApartamentos<= numAplicantes) and (len(precioAptos) == numApartamentos) and (len(precioAplicantes) == numAplicantes)):\n",
        "    precioAptosOrdenado = sorted(precioAptos)\n",
        "    precioOfertasOrdenado = sorted(precioAplicantes)\n",
        "    contadorAptosAlquilados=0                    \n",
        "    num_apartamentos=0                 \n",
        "    num_aplicantes=0\n",
        "\n",
        "    while(num_apartamentos<numApartamentos  and   num_aplicantes<numAplicantes):\n",
        "      max=precioOfertasOrdenado[num_aplicantes]+toleranciaPrecio\n",
        "      min=precioOfertasOrdenado[num_aplicantes]-toleranciaPrecio\n",
        "\n",
        "      if(precioAptosOrdenado[num_apartamentos] > max):\n",
        "        num_aplicantes+=1\n",
        "\n",
        "      else:\n",
        "        if(precioAptosOrdenado[num_apartamentos] >= min):\n",
        "         contadorAptosAlquilados+=1\n",
        "         num_aplicantes+=1\n",
        "\n",
        "        num_apartamentos+=1\n",
        "  else:\n",
        "    print(\"Verifique de nuevo las entradas\")\n",
        "\n",
        "  return contadorAptosAlquilados \n",
        "\n",
        "#Ejemplo con la cantidad máxima de entradas\n",
        "print(puntoDos(100000, 100000, generarListaApartamentosLibres(100000), generarListaPreciosClientes(100000),5))\n",
        "\n",
        "#Ejemplo del taller realizado\n",
        "print(puntoDos(3,4,[30,60,75],[45,60,60,80],5))\n"
      ],
      "metadata": {
        "colab": {
          "base_uri": "https://localhost:8080/"
        },
        "id": "z2jtNe2COBjC",
        "outputId": "3a67b057-a953-470b-a4ad-51d20a2d7bfe"
      },
      "execution_count": null,
      "outputs": [
        {
          "output_type": "stream",
          "name": "stdout",
          "text": [
            "34941\n",
            "2\n"
          ]
        }
      ]
    },
    {
      "cell_type": "markdown",
      "source": [
        "Se realizó un generador para realizar listas aleatorias, de acuerdo a la cantidad de apartamaentos y personas interesadas. "
      ],
      "metadata": {
        "id": "HPzD6RK7pvbD"
      }
    },
    {
      "cell_type": "code",
      "source": [
        "import random\n",
        "import math\n",
        "\n",
        "def generarListaApartamentosLibres(aptosLibres):\n",
        "  listaPrecio= []\n",
        "  for i in range(aptosLibres):\n",
        "    listaPrecio.append(math.ceil(random.uniform(100, 400)))\n",
        "  return listaPrecio\n",
        "\n",
        "def generarListaPreciosClientes(clientes):\n",
        "  listaClientesP= []\n",
        "  for i in range(clientes):\n",
        "    listaClientesP.append(math.ceil(random.uniform(300, 400)))\n",
        "                          \n",
        "  return listaClientesP\n"
      ],
      "metadata": {
        "id": "zblMfBudVeHw"
      },
      "execution_count": null,
      "outputs": []
    },
    {
      "cell_type": "markdown",
      "source": [
        "**PUNTO 4**\n",
        "Usted está programando un programa de autocompletado de palabras que, naturalmente, almacena palabras y con base a las palabras almacenadas en el programa predice qué palabra desearía escribir el usuario. En concreto, su software recibirá instrucciones de este tipo:\n",
        "\n",
        "1 S, se almacena la palabra S\n",
        "2 S, se lee la palabra S y, con base en las palabras almacenadas previamente, se predice cuál sería la palabra deseada, que se llamará T. T será una palabra tal que un prefijo de T es el máximo prefijo de S posible. En caso de existir varias cadenas T que cumplan esta condición, se retornará la menor lexicográficamente. En caso de que el prefijo común entre T y S sea inferior a la mitad de los caracteres de S, retorna una cadena vacía.\n",
        "\n",
        "Se procesarán N (1≤𝑁≤106) instrucciones que pueden ser de tipo 1 o 2. La cadena de texto S nunca sobrepasará los 20 caracteres.\n"
      ],
      "metadata": {
        "id": "uTn-kFsMyS8f"
      }
    },
    {
      "cell_type": "markdown",
      "source": [
        "Para iniciar, tenemos la implementación con clases del tipo de dato prefix tree, estructura que usamos en la solución del ejercicio y una función auxiliar para determinar cual es la palabra mas pequeña de una lista. "
      ],
      "metadata": {
        "id": "VXg7JRJO006q"
      }
    },
    {
      "cell_type": "code",
      "source": [
        "class Node:\n",
        "    def __init__(self):\n",
        "        self.children = [None] * 26\n",
        "        self.end = False\n",
        "        self.value = \"\"\n",
        "\n",
        "class Trie:\n",
        "    def __init__(self):\n",
        "        self.root = Node()\n",
        "\n",
        "    def add_word(self, key):\n",
        "        word_length = len(key)\n",
        "        current = self.root\n",
        "        for i in range(word_length):\n",
        "            position = self.ord_char(key[i])\n",
        "\n",
        "            if current.children[position] is None:\n",
        "                current.children[position] = Node()\n",
        "            current = current.children[position]\n",
        "            current.value = key[i]\n",
        "        current.end = True\n",
        "\n",
        "    def ord_char(self,key):\n",
        "        ord_rep = ord(key) - ord('a')\n",
        "        return ord_rep\n",
        "\n",
        "    def prefix_search(self, prefix):\n",
        "      current = self.root\n",
        "    \n",
        "      for c in prefix:\n",
        "        current = current.children[self.ord_char(c)]\n",
        "        if current is None:\n",
        "            return []\n",
        "\n",
        "      found = []\n",
        "      stack = [(current, prefix)]\n",
        "      while stack:\n",
        "        current, prefix = stack.pop()\n",
        "\n",
        "        if current.end:\n",
        "            found.append(prefix)\n",
        "\n",
        "        for child in current.children:\n",
        "            if child is None:\n",
        "                continue\n",
        "            stack.append((child, prefix + child.value))\n",
        "\n",
        "      return found\n",
        "\n",
        "def menorLexicograficamente(aux):\n",
        "  longitudes = []\n",
        "  for palabra in aux:\n",
        "    longitudes.append( (len(palabra), palabra ) )\n",
        "  longitudes.sort()\n",
        "  return longitudes[0][1]\n",
        "\n"
      ],
      "metadata": {
        "id": "RpXSjRvmQCBE"
      },
      "execution_count": null,
      "outputs": []
    },
    {
      "cell_type": "markdown",
      "source": [
        "Continuamos con el codigo que soluciona el ejercicio. "
      ],
      "metadata": {
        "id": "kVdZTIkQ1baV"
      }
    },
    {
      "cell_type": "code",
      "source": [
        "def puntoCuatro(cantInstrucciones, instrucciones):\n",
        "  diccionario = Trie()\n",
        "  salida=[]\n",
        "  for instruccion in instrucciones:\n",
        "    if(instruccion[0] == 1):\n",
        "      diccionario.add_word(instruccion[1])\n",
        "    else:\n",
        "      longMinPrefijo = round(len(instruccion[1])/2)\n",
        "      predicciones = []\n",
        "\n",
        "      while(longMinPrefijo < len(instruccion[1])):\n",
        "        anterior = predicciones.copy()\n",
        "        predicciones = diccionario.prefix_search(instruccion[1][0:longMinPrefijo])\n",
        "        if not predicciones:\n",
        "          break \n",
        "        longMinPrefijo+=1\n",
        "\n",
        "      if predicciones:\n",
        "        if len(predicciones) == 1:\n",
        "          salida += predicciones\n",
        "        else: \n",
        "          menor = menorLexicograficamente(predicciones)\n",
        "          salida.append(menor)\n",
        "      else:\n",
        "        if anterior:\n",
        "          if len(anterior) == 1:\n",
        "            salida += anterior\n",
        "          else: \n",
        "            menor = menorLexicograficamente(anterior)\n",
        "            salida.append(menor)\n",
        "        else:\n",
        "          salida.append(\"\")\n",
        "        \n",
        "\n",
        "        \n",
        "  return salida"
      ],
      "metadata": {
        "id": "KpmfNPUo1aHa"
      },
      "execution_count": null,
      "outputs": []
    },
    {
      "cell_type": "markdown",
      "source": [
        "Se realizó un generador para crear entradas aleatorias, de acuerdo a la cantidad de instrucciones y el tamaño de las palabras.\n"
      ],
      "metadata": {
        "id": "jQAANmoM0etr"
      }
    },
    {
      "cell_type": "code",
      "source": [
        "import string\n",
        "import random\n",
        "\n",
        "def generarInstrucciones():\n",
        "  instrucciones = []\n",
        "  number_of_strings = 500000\n",
        "  length_of_string = 20\n",
        "  for x in range(number_of_strings):\n",
        "    palabra = ''.join(random.choice(string.ascii_letters) for _ in range(length_of_string)).lower()\n",
        "    instruccion = (1, palabra)\n",
        "    instrucciones.append(instruccion)\n",
        "    \n",
        "  for x in range(number_of_strings):\n",
        "    palabra = ''.join(random.choice(string.ascii_letters) for _ in range(length_of_string)).lower()\n",
        "    instruccion = (2, palabra)\n",
        "    instrucciones.append(instruccion)\n",
        "  return instrucciones\n",
        "\n",
        "\n",
        "#print(puntoCuatro(500000, generarInstrucciones()))\n",
        "print(puntoCuatro(5, [(1, \"hola\"), (1, \"cabeza\"), (1, \"arroz\"), (2, \"aroo\"), (2, \"pez\")]))\n",
        "print(puntoCuatro(9, [(1, \"arroz\"), (1, \"casamiento\"), (1, \"caza\"), (1, \"cazador\"), (1, \"cazadora\"), (2,\"casa\"), (2,\"aro\"), (2,\"caperucita\"), (2,\"pedro\")]))\n",
        "\n"
      ],
      "metadata": {
        "colab": {
          "base_uri": "https://localhost:8080/"
        },
        "id": "0dKwfmVw0Ap7",
        "outputId": "67953d9b-7cb2-45ad-ee77-73ddd94185ba"
      },
      "execution_count": null,
      "outputs": [
        {
          "output_type": "stream",
          "name": "stdout",
          "text": [
            "['arroz', '']\n",
            "['casamiento', 'arroz', '', '']\n"
          ]
        }
      ]
    }
  ]
}